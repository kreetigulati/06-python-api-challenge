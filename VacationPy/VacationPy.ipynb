{
 "cells": [
  {
   "cell_type": "markdown",
   "metadata": {},
   "source": [
    "# VacationPy\n",
    "----\n",
    "\n",
    "#### Note\n",
    "* Keep an eye on your API usage. Use https://developers.google.com/maps/reporting/gmp-reporting as reference for how to monitor your usage and billing.\n",
    "\n",
    "* Instructions have been included for each segment. You do not have to follow them exactly, but they are included to help you think through the steps."
   ]
  },
  {
   "cell_type": "code",
   "execution_count": 64,
   "metadata": {},
   "outputs": [
    {
     "name": "stderr",
     "output_type": "stream",
     "text": [
      "Enabling notebook extension jupyter-js-widgets/extension...\n",
      "      - Validating: ok\n"
     ]
    }
   ],
   "source": [
    "! jupyter nbextension enable --py --sys-prefix widgetsnbextension"
   ]
  },
  {
   "cell_type": "code",
   "execution_count": 65,
   "metadata": {},
   "outputs": [
    {
     "name": "stderr",
     "output_type": "stream",
     "text": [
      "Enabling notebook extension jupyter-gmaps/extension...\n",
      "      - Validating: ok\n"
     ]
    }
   ],
   "source": [
    "!jupyter nbextension enable --py --sys-prefix gmaps"
   ]
  },
  {
   "cell_type": "code",
   "execution_count": 81,
   "metadata": {},
   "outputs": [],
   "source": [
    "# Dependencies and Setup\n",
    "import matplotlib.pyplot as plt\n",
    "import pandas as pd\n",
    "import numpy as np\n",
    "import requests\n",
    "import gmaps\n",
    "import os\n",
    "\n",
    "# Import API key\n",
    "from api_keys import g_key"
   ]
  },
  {
   "cell_type": "markdown",
   "metadata": {},
   "source": [
    "### Store Part I results into DataFrame\n",
    "* Load the csv exported in Part I to a DataFrame"
   ]
  },
  {
   "cell_type": "code",
   "execution_count": 82,
   "metadata": {},
   "outputs": [
    {
     "data": {
      "text/html": [
       "<div>\n",
       "<style scoped>\n",
       "    .dataframe tbody tr th:only-of-type {\n",
       "        vertical-align: middle;\n",
       "    }\n",
       "\n",
       "    .dataframe tbody tr th {\n",
       "        vertical-align: top;\n",
       "    }\n",
       "\n",
       "    .dataframe thead th {\n",
       "        text-align: right;\n",
       "    }\n",
       "</style>\n",
       "<table border=\"1\" class=\"dataframe\">\n",
       "  <thead>\n",
       "    <tr style=\"text-align: right;\">\n",
       "      <th></th>\n",
       "      <th>City</th>\n",
       "      <th>Lat</th>\n",
       "      <th>Lng</th>\n",
       "      <th>Max Temp</th>\n",
       "      <th>Humidity</th>\n",
       "      <th>Cloudiness</th>\n",
       "      <th>Wind Speed</th>\n",
       "      <th>Country</th>\n",
       "      <th>Date</th>\n",
       "    </tr>\n",
       "  </thead>\n",
       "  <tbody>\n",
       "    <tr>\n",
       "      <th>0</th>\n",
       "      <td>Butaritari</td>\n",
       "      <td>3.0707</td>\n",
       "      <td>172.7902</td>\n",
       "      <td>82.83</td>\n",
       "      <td>79</td>\n",
       "      <td>40</td>\n",
       "      <td>15.23</td>\n",
       "      <td>KI</td>\n",
       "      <td>1621130074</td>\n",
       "    </tr>\n",
       "    <tr>\n",
       "      <th>1</th>\n",
       "      <td>Ahipara</td>\n",
       "      <td>-35.1667</td>\n",
       "      <td>173.1667</td>\n",
       "      <td>67.15</td>\n",
       "      <td>68</td>\n",
       "      <td>2</td>\n",
       "      <td>10.65</td>\n",
       "      <td>NZ</td>\n",
       "      <td>1621130091</td>\n",
       "    </tr>\n",
       "    <tr>\n",
       "      <th>2</th>\n",
       "      <td>Rikitea</td>\n",
       "      <td>-23.1203</td>\n",
       "      <td>-134.9692</td>\n",
       "      <td>74.55</td>\n",
       "      <td>67</td>\n",
       "      <td>100</td>\n",
       "      <td>17.92</td>\n",
       "      <td>PF</td>\n",
       "      <td>1621130203</td>\n",
       "    </tr>\n",
       "    <tr>\n",
       "      <th>3</th>\n",
       "      <td>Yellowknife</td>\n",
       "      <td>62.4560</td>\n",
       "      <td>-114.3525</td>\n",
       "      <td>39.07</td>\n",
       "      <td>65</td>\n",
       "      <td>75</td>\n",
       "      <td>12.66</td>\n",
       "      <td>CA</td>\n",
       "      <td>1621130203</td>\n",
       "    </tr>\n",
       "    <tr>\n",
       "      <th>4</th>\n",
       "      <td>Sesimbra</td>\n",
       "      <td>38.4445</td>\n",
       "      <td>-9.1015</td>\n",
       "      <td>63.72</td>\n",
       "      <td>77</td>\n",
       "      <td>75</td>\n",
       "      <td>6.91</td>\n",
       "      <td>PT</td>\n",
       "      <td>1621130204</td>\n",
       "    </tr>\n",
       "  </tbody>\n",
       "</table>\n",
       "</div>"
      ],
      "text/plain": [
       "          City      Lat       Lng  Max Temp  Humidity  Cloudiness  Wind Speed  \\\n",
       "0   Butaritari   3.0707  172.7902     82.83        79          40       15.23   \n",
       "1      Ahipara -35.1667  173.1667     67.15        68           2       10.65   \n",
       "2      Rikitea -23.1203 -134.9692     74.55        67         100       17.92   \n",
       "3  Yellowknife  62.4560 -114.3525     39.07        65          75       12.66   \n",
       "4     Sesimbra  38.4445   -9.1015     63.72        77          75        6.91   \n",
       "\n",
       "  Country        Date  \n",
       "0      KI  1621130074  \n",
       "1      NZ  1621130091  \n",
       "2      PF  1621130203  \n",
       "3      CA  1621130203  \n",
       "4      PT  1621130204  "
      ]
     },
     "execution_count": 82,
     "metadata": {},
     "output_type": "execute_result"
    }
   ],
   "source": [
    "df_weather = pd.read_csv(\"../output_data/cities.csv\")\n",
    "df_weather.head()"
   ]
  },
  {
   "cell_type": "markdown",
   "metadata": {},
   "source": [
    "### Humidity Heatmap\n",
    "* Configure gmaps.\n",
    "* Use the Lat and Lng as locations and Humidity as the weight.\n",
    "* Add Heatmap layer to map."
   ]
  },
  {
   "cell_type": "code",
   "execution_count": 83,
   "metadata": {},
   "outputs": [],
   "source": [
    "gmaps.configure(api_key=g_key)\n",
    "\n",
    "locations = df_weather[[\"Lat\", \"Lng\"]]\n",
    "\n",
    "humidity = df_weather[\"Humidity\"]"
   ]
  },
  {
   "cell_type": "code",
   "execution_count": 84,
   "metadata": {},
   "outputs": [
    {
     "data": {
      "application/vnd.jupyter.widget-view+json": {
       "model_id": "a7705f47734c4d958b7be559bdda81f5",
       "version_major": 2,
       "version_minor": 0
      },
      "text/plain": [
       "Figure(layout=FigureLayout(height='420px'))"
      ]
     },
     "metadata": {},
     "output_type": "display_data"
    }
   ],
   "source": [
    "fig = gmaps.figure(center=(46.0, -5.0), zoom_level=2)\n",
    "max_intensity = np.max(humidity)\n",
    "\n",
    "heat_layer = gmaps.heatmap_layer(locations, weights = humidity, dissipating=False, max_intensity=100, point_radius=3)\n",
    "\n",
    "fig.add_layer(heat_layer)\n",
    "\n",
    "fig"
   ]
  },
  {
   "cell_type": "code",
   "execution_count": 85,
   "metadata": {},
   "outputs": [
    {
     "data": {
      "text/plain": [
       "100"
      ]
     },
     "execution_count": 85,
     "metadata": {},
     "output_type": "execute_result"
    }
   ],
   "source": [
    "max_intensity"
   ]
  },
  {
   "cell_type": "markdown",
   "metadata": {},
   "source": [
    "### Create new DataFrame fitting weather criteria\n",
    "* Narrow down the cities to fit weather conditions.\n",
    "* Drop any rows will null values."
   ]
  },
  {
   "cell_type": "code",
   "execution_count": 86,
   "metadata": {},
   "outputs": [],
   "source": [
    "df_new_weather = df_weather[(df_weather['Max Temp'] >= 75) & (df_weather['Max Temp'] <= 90)]\n",
    "df_new_weather = df_new_weather[df_new_weather['Wind Speed'] <= 10]\n",
    "df_new_weather = df_new_weather[df_new_weather['Cloudiness'] <= 0]\n",
    "df_new_weather = df_new_weather[df_new_weather['Humidity'] <= 70]\n",
    "hotel_df = df_new_weather"
   ]
  },
  {
   "cell_type": "markdown",
   "metadata": {},
   "source": [
    "### Hotel Map\n",
    "* Store into variable named `hotel_df`.\n",
    "* Add a \"Hotel Name\" column to the DataFrame.\n",
    "* Set parameters to search for hotels with 5000 meters.\n",
    "* Hit the Google Places API for each city's coordinates.\n",
    "* Store the first Hotel result into the DataFrame.\n",
    "* Plot markers on top of the heatmap."
   ]
  },
  {
   "cell_type": "code",
   "execution_count": 87,
   "metadata": {},
   "outputs": [
    {
     "data": {
      "text/html": [
       "<div>\n",
       "<style scoped>\n",
       "    .dataframe tbody tr th:only-of-type {\n",
       "        vertical-align: middle;\n",
       "    }\n",
       "\n",
       "    .dataframe tbody tr th {\n",
       "        vertical-align: top;\n",
       "    }\n",
       "\n",
       "    .dataframe thead th {\n",
       "        text-align: right;\n",
       "    }\n",
       "</style>\n",
       "<table border=\"1\" class=\"dataframe\">\n",
       "  <thead>\n",
       "    <tr style=\"text-align: right;\">\n",
       "      <th></th>\n",
       "      <th>City</th>\n",
       "      <th>Lat</th>\n",
       "      <th>Lng</th>\n",
       "      <th>Max Temp</th>\n",
       "      <th>Humidity</th>\n",
       "      <th>Cloudiness</th>\n",
       "      <th>Wind Speed</th>\n",
       "      <th>Country</th>\n",
       "      <th>Date</th>\n",
       "      <th>Hotel Name</th>\n",
       "    </tr>\n",
       "  </thead>\n",
       "  <tbody>\n",
       "    <tr>\n",
       "      <th>49</th>\n",
       "      <td>Buraidah</td>\n",
       "      <td>26.3260</td>\n",
       "      <td>43.9750</td>\n",
       "      <td>84.20</td>\n",
       "      <td>20</td>\n",
       "      <td>0</td>\n",
       "      <td>6.91</td>\n",
       "      <td>SA</td>\n",
       "      <td>1621130223</td>\n",
       "      <td></td>\n",
       "    </tr>\n",
       "    <tr>\n",
       "      <th>214</th>\n",
       "      <td>Riyadh</td>\n",
       "      <td>24.6877</td>\n",
       "      <td>46.7219</td>\n",
       "      <td>84.67</td>\n",
       "      <td>16</td>\n",
       "      <td>0</td>\n",
       "      <td>6.06</td>\n",
       "      <td>SA</td>\n",
       "      <td>1621130015</td>\n",
       "      <td></td>\n",
       "    </tr>\n",
       "    <tr>\n",
       "      <th>308</th>\n",
       "      <td>Tomatlán</td>\n",
       "      <td>19.9333</td>\n",
       "      <td>-105.2500</td>\n",
       "      <td>81.07</td>\n",
       "      <td>58</td>\n",
       "      <td>0</td>\n",
       "      <td>3.89</td>\n",
       "      <td>MX</td>\n",
       "      <td>1621130336</td>\n",
       "      <td></td>\n",
       "    </tr>\n",
       "    <tr>\n",
       "      <th>360</th>\n",
       "      <td>Gambiran</td>\n",
       "      <td>-6.7988</td>\n",
       "      <td>111.4951</td>\n",
       "      <td>83.46</td>\n",
       "      <td>66</td>\n",
       "      <td>0</td>\n",
       "      <td>6.51</td>\n",
       "      <td>ID</td>\n",
       "      <td>1621130357</td>\n",
       "      <td></td>\n",
       "    </tr>\n",
       "    <tr>\n",
       "      <th>392</th>\n",
       "      <td>Sawākin</td>\n",
       "      <td>19.1059</td>\n",
       "      <td>37.3321</td>\n",
       "      <td>80.71</td>\n",
       "      <td>41</td>\n",
       "      <td>0</td>\n",
       "      <td>2.24</td>\n",
       "      <td>SD</td>\n",
       "      <td>1621130369</td>\n",
       "      <td></td>\n",
       "    </tr>\n",
       "    <tr>\n",
       "      <th>473</th>\n",
       "      <td>Grand Gaube</td>\n",
       "      <td>-20.0064</td>\n",
       "      <td>57.6608</td>\n",
       "      <td>75.99</td>\n",
       "      <td>68</td>\n",
       "      <td>0</td>\n",
       "      <td>5.99</td>\n",
       "      <td>MU</td>\n",
       "      <td>1621130400</td>\n",
       "      <td></td>\n",
       "    </tr>\n",
       "  </tbody>\n",
       "</table>\n",
       "</div>"
      ],
      "text/plain": [
       "            City      Lat       Lng  Max Temp  Humidity  Cloudiness  \\\n",
       "49      Buraidah  26.3260   43.9750     84.20        20           0   \n",
       "214       Riyadh  24.6877   46.7219     84.67        16           0   \n",
       "308     Tomatlán  19.9333 -105.2500     81.07        58           0   \n",
       "360     Gambiran  -6.7988  111.4951     83.46        66           0   \n",
       "392      Sawākin  19.1059   37.3321     80.71        41           0   \n",
       "473  Grand Gaube -20.0064   57.6608     75.99        68           0   \n",
       "\n",
       "     Wind Speed Country        Date Hotel Name  \n",
       "49         6.91      SA  1621130223             \n",
       "214        6.06      SA  1621130015             \n",
       "308        3.89      MX  1621130336             \n",
       "360        6.51      ID  1621130357             \n",
       "392        2.24      SD  1621130369             \n",
       "473        5.99      MU  1621130400             "
      ]
     },
     "execution_count": 87,
     "metadata": {},
     "output_type": "execute_result"
    }
   ],
   "source": [
    "hotel_df['Hotel Name'] = \"\"\n",
    "hotel_df"
   ]
  },
  {
   "cell_type": "code",
   "execution_count": 91,
   "metadata": {},
   "outputs": [
    {
     "data": {
      "text/html": [
       "<div>\n",
       "<style scoped>\n",
       "    .dataframe tbody tr th:only-of-type {\n",
       "        vertical-align: middle;\n",
       "    }\n",
       "\n",
       "    .dataframe tbody tr th {\n",
       "        vertical-align: top;\n",
       "    }\n",
       "\n",
       "    .dataframe thead th {\n",
       "        text-align: right;\n",
       "    }\n",
       "</style>\n",
       "<table border=\"1\" class=\"dataframe\">\n",
       "  <thead>\n",
       "    <tr style=\"text-align: right;\">\n",
       "      <th></th>\n",
       "      <th>City</th>\n",
       "      <th>Lat</th>\n",
       "      <th>Lng</th>\n",
       "      <th>Max Temp</th>\n",
       "      <th>Humidity</th>\n",
       "      <th>Cloudiness</th>\n",
       "      <th>Wind Speed</th>\n",
       "      <th>Country</th>\n",
       "      <th>Date</th>\n",
       "      <th>Hotel Name</th>\n",
       "    </tr>\n",
       "  </thead>\n",
       "  <tbody>\n",
       "    <tr>\n",
       "      <th>49</th>\n",
       "      <td>Buraidah</td>\n",
       "      <td>26.3260</td>\n",
       "      <td>43.9750</td>\n",
       "      <td>84.20</td>\n",
       "      <td>20</td>\n",
       "      <td>0</td>\n",
       "      <td>6.91</td>\n",
       "      <td>SA</td>\n",
       "      <td>1621130223</td>\n",
       "      <td>Buraydah</td>\n",
       "    </tr>\n",
       "    <tr>\n",
       "      <th>214</th>\n",
       "      <td>Riyadh</td>\n",
       "      <td>24.6877</td>\n",
       "      <td>46.7219</td>\n",
       "      <td>84.67</td>\n",
       "      <td>16</td>\n",
       "      <td>0</td>\n",
       "      <td>6.06</td>\n",
       "      <td>SA</td>\n",
       "      <td>1621130015</td>\n",
       "      <td>Riyadh</td>\n",
       "    </tr>\n",
       "    <tr>\n",
       "      <th>308</th>\n",
       "      <td>Tomatlán</td>\n",
       "      <td>19.9333</td>\n",
       "      <td>-105.2500</td>\n",
       "      <td>81.07</td>\n",
       "      <td>58</td>\n",
       "      <td>0</td>\n",
       "      <td>3.89</td>\n",
       "      <td>MX</td>\n",
       "      <td>1621130336</td>\n",
       "      <td>Tomatlán</td>\n",
       "    </tr>\n",
       "    <tr>\n",
       "      <th>360</th>\n",
       "      <td>Gambiran</td>\n",
       "      <td>-6.7988</td>\n",
       "      <td>111.4951</td>\n",
       "      <td>83.46</td>\n",
       "      <td>66</td>\n",
       "      <td>0</td>\n",
       "      <td>6.51</td>\n",
       "      <td>ID</td>\n",
       "      <td>1621130357</td>\n",
       "      <td>Pamotan</td>\n",
       "    </tr>\n",
       "    <tr>\n",
       "      <th>392</th>\n",
       "      <td>Sawākin</td>\n",
       "      <td>19.1059</td>\n",
       "      <td>37.3321</td>\n",
       "      <td>80.71</td>\n",
       "      <td>41</td>\n",
       "      <td>0</td>\n",
       "      <td>2.24</td>\n",
       "      <td>SD</td>\n",
       "      <td>1621130369</td>\n",
       "      <td>Suakin</td>\n",
       "    </tr>\n",
       "    <tr>\n",
       "      <th>473</th>\n",
       "      <td>Grand Gaube</td>\n",
       "      <td>-20.0064</td>\n",
       "      <td>57.6608</td>\n",
       "      <td>75.99</td>\n",
       "      <td>68</td>\n",
       "      <td>0</td>\n",
       "      <td>5.99</td>\n",
       "      <td>MU</td>\n",
       "      <td>1621130400</td>\n",
       "      <td>Goodlands</td>\n",
       "    </tr>\n",
       "  </tbody>\n",
       "</table>\n",
       "</div>"
      ],
      "text/plain": [
       "            City      Lat       Lng  Max Temp  Humidity  Cloudiness  \\\n",
       "49      Buraidah  26.3260   43.9750     84.20        20           0   \n",
       "214       Riyadh  24.6877   46.7219     84.67        16           0   \n",
       "308     Tomatlán  19.9333 -105.2500     81.07        58           0   \n",
       "360     Gambiran  -6.7988  111.4951     83.46        66           0   \n",
       "392      Sawākin  19.1059   37.3321     80.71        41           0   \n",
       "473  Grand Gaube -20.0064   57.6608     75.99        68           0   \n",
       "\n",
       "     Wind Speed Country        Date Hotel Name  \n",
       "49         6.91      SA  1621130223   Buraydah  \n",
       "214        6.06      SA  1621130015     Riyadh  \n",
       "308        3.89      MX  1621130336   Tomatlán  \n",
       "360        6.51      ID  1621130357    Pamotan  \n",
       "392        2.24      SD  1621130369     Suakin  \n",
       "473        5.99      MU  1621130400  Goodlands  "
      ]
     },
     "execution_count": 91,
     "metadata": {},
     "output_type": "execute_result"
    }
   ],
   "source": [
    "for index, row in hotel_df.iterrows():\n",
    "\n",
    "    base_url = \"https://maps.googleapis.com/maps/api/place/nearbysearch/json?\"\n",
    "\n",
    "    params = {\n",
    "    \"type\":\"hotel\",\n",
    "    \"radius\": 5000,\n",
    "    \"key\":g_key\n",
    "    }\n",
    "\n",
    "    lat = row['Lat']\n",
    "    lng = row['Lng']\n",
    "    city_name = row[\"City\"]\n",
    "\n",
    "    params['location'] = f\"{lat}, {lng}\"\n",
    "\n",
    "    hotel_data = requests.get(base_url, params=params).json()\n",
    "\n",
    "    results = hotel_data['results']\n",
    "\n",
    "    try:\n",
    "\n",
    "        hotel_df.loc[index, \"Hotel Name\"] = results[0][\"name\"]\n",
    "        \n",
    "    except IndexError:\n",
    "        \n",
    "        hotel_df.loc[index, \"Hotel Name\"] = \"NaN\"\n",
    "        \n",
    "hotel_df"
   ]
  },
  {
   "cell_type": "code",
   "execution_count": 89,
   "metadata": {},
   "outputs": [],
   "source": [
    "# NOTE: Do not change any of the code in this cell\n",
    "\n",
    "# Using the template add the hotel marks to the heatmap\n",
    "info_box_template = \"\"\"\n",
    "<dl>\n",
    "<dt>Name</dt><dd>{Hotel Name}</dd>\n",
    "<dt>City</dt><dd>{City}</dd>\n",
    "<dt>Country</dt><dd>{Country}</dd>\n",
    "</dl>\n",
    "\"\"\"\n",
    "# Store the DataFrame Row\n",
    "# NOTE: be sure to update with your DataFrame name\n",
    "hotel_info = [info_box_template.format(**row) for index, row in hotel_df.iterrows()]\n",
    "locations = hotel_df[[\"Lat\", \"Lng\"]]"
   ]
  },
  {
   "cell_type": "code",
   "execution_count": 90,
   "metadata": {},
   "outputs": [
    {
     "data": {
      "application/vnd.jupyter.widget-view+json": {
       "model_id": "a7705f47734c4d958b7be559bdda81f5",
       "version_major": 2,
       "version_minor": 0
      },
      "text/plain": [
       "Figure(layout=FigureLayout(height='420px'))"
      ]
     },
     "metadata": {},
     "output_type": "display_data"
    }
   ],
   "source": [
    "# Add marker layer ontop of heat map\n",
    "markers = gmaps.marker_layer(locations, info_box_content=hotel_info)\n",
    "fig.add_layer(markers)\n",
    "# Display figure\n",
    "fig"
   ]
  },
  {
   "cell_type": "code",
   "execution_count": null,
   "metadata": {},
   "outputs": [],
   "source": []
  }
 ],
 "metadata": {
  "kernelspec": {
   "display_name": "Python 3",
   "language": "python",
   "name": "python3"
  },
  "language_info": {
   "codemirror_mode": {
    "name": "ipython",
    "version": 3
   },
   "file_extension": ".py",
   "mimetype": "text/x-python",
   "name": "python",
   "nbconvert_exporter": "python",
   "pygments_lexer": "ipython3",
   "version": "3.8.5"
  },
  "latex_envs": {
   "LaTeX_envs_menu_present": true,
   "autoclose": false,
   "autocomplete": true,
   "bibliofile": "biblio.bib",
   "cite_by": "apalike",
   "current_citInitial": 1,
   "eqLabelWithNumbers": true,
   "eqNumInitial": 1,
   "hotkeys": {
    "equation": "Ctrl-E",
    "itemize": "Ctrl-I"
   },
   "labels_anchors": false,
   "latex_user_defs": false,
   "report_style_numbering": false,
   "user_envs_cfg": false
  }
 },
 "nbformat": 4,
 "nbformat_minor": 4
}
